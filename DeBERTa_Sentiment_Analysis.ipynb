{
  "cells": [
    {
      "cell_type": "markdown",
      "metadata": {
        "id": "kgOG4Z5a-SfS"
      },
      "source": [
        "#DeBERTa for Sentiment Analysis\n"
      ],
      "id": "kgOG4Z5a-SfS"
    },
    {
      "cell_type": "code",
      "execution_count": 2,
      "metadata": {
        "id": "3snIexPP-SfV"
      },
      "outputs": [],
      "source": [
        "!pip install transformers datasets scikit-learn --quiet"
      ],
      "id": "3snIexPP-SfV"
    },
    {
      "cell_type": "code",
      "source": [
        "from google.colab import drive\n",
        "drive.mount('/content/drive')"
      ],
      "metadata": {
        "colab": {
          "base_uri": "https://localhost:8080/"
        },
        "id": "IoDZLiahLatY",
        "outputId": "a61b13b3-52e6-426c-a608-5ebeaf5cb5c5"
      },
      "id": "IoDZLiahLatY",
      "execution_count": 3,
      "outputs": [
        {
          "output_type": "stream",
          "name": "stdout",
          "text": [
            "Drive already mounted at /content/drive; to attempt to forcibly remount, call drive.mount(\"/content/drive\", force_remount=True).\n"
          ]
        }
      ]
    },
    {
      "cell_type": "code",
      "execution_count": 4,
      "metadata": {
        "id": "ffA7KiP3-SfX"
      },
      "outputs": [],
      "source": [
        "import pandas as pd\n",
        "from sklearn.model_selection import train_test_split\n",
        "from transformers import DebertaTokenizer, DebertaForSequenceClassification, Trainer, TrainingArguments\n",
        "import torch\n",
        "from sklearn.metrics import accuracy_score, precision_recall_fscore_support\n",
        "import time"
      ],
      "id": "ffA7KiP3-SfX"
    },
    {
      "cell_type": "code",
      "execution_count": 5,
      "metadata": {
        "id": "o18kouDN-SfZ"
      },
      "outputs": [],
      "source": [
        "# Load dataset\n",
        "df = pd.read_csv('/content/Reviews.csv', on_bad_lines='warn', engine='python')\n",
        "df = df[['Text', 'Score']].dropna()\n",
        "df = df[df['Score'] != 3]\n",
        "df['label'] = df['Score'].apply(lambda x: 1 if x > 3 else 0)"
      ],
      "id": "o18kouDN-SfZ"
    },
    {
      "cell_type": "code",
      "source": [
        "df.shape\n",
        "df = df.sample(15000)"
      ],
      "metadata": {
        "id": "qzXnsBAEDASJ"
      },
      "id": "qzXnsBAEDASJ",
      "execution_count": 6,
      "outputs": []
    },
    {
      "cell_type": "code",
      "execution_count": 7,
      "metadata": {
        "id": "_nfdRpP7-Sfa"
      },
      "outputs": [],
      "source": [
        "# Split data\n",
        "train_texts, val_texts, train_labels, val_labels = train_test_split(df['Text'], df['label'], test_size=0.2, random_state=42)"
      ],
      "id": "_nfdRpP7-Sfa"
    },
    {
      "cell_type": "code",
      "execution_count": 8,
      "metadata": {
        "colab": {
          "base_uri": "https://localhost:8080/"
        },
        "id": "lqTvd-Jc-Sfb",
        "outputId": "9d460475-573b-41f8-89ec-60f3b53eb2d0"
      },
      "outputs": [
        {
          "output_type": "stream",
          "name": "stderr",
          "text": [
            "/usr/local/lib/python3.11/dist-packages/huggingface_hub/utils/_auth.py:94: UserWarning: \n",
            "The secret `HF_TOKEN` does not exist in your Colab secrets.\n",
            "To authenticate with the Hugging Face Hub, create a token in your settings tab (https://huggingface.co/settings/tokens), set it as secret in your Google Colab and restart your session.\n",
            "You will be able to reuse this secret in all of your notebooks.\n",
            "Please note that authentication is recommended but still optional to access public models or datasets.\n",
            "  warnings.warn(\n"
          ]
        }
      ],
      "source": [
        "# Tokenization\n",
        "tokenizer = DebertaTokenizer.from_pretrained('microsoft/deberta-base')\n",
        "train_encodings = tokenizer(list(train_texts), truncation=True, padding=True, max_length=128)\n",
        "val_encodings = tokenizer(list(val_texts), truncation=True, padding=True, max_length=128)"
      ],
      "id": "lqTvd-Jc-Sfb"
    },
    {
      "cell_type": "code",
      "execution_count": 9,
      "metadata": {
        "id": "rZWCjMup-Sfc"
      },
      "outputs": [],
      "source": [
        "# Dataset class\n",
        "class AmazonDataset(torch.utils.data.Dataset):\n",
        "    def __init__(self, encodings, labels):\n",
        "        self.encodings = encodings\n",
        "        self.labels = labels\n",
        "    def __getitem__(self, idx):\n",
        "        return {key: torch.tensor(val[idx]) for key, val in self.encodings.items()} | {'labels': torch.tensor(self.labels[idx])}\n",
        "    def __len__(self):\n",
        "        return len(self.labels)\n",
        "\n",
        "train_dataset = AmazonDataset(train_encodings, train_labels.tolist())\n",
        "val_dataset = AmazonDataset(val_encodings, val_labels.tolist())"
      ],
      "id": "rZWCjMup-Sfc"
    },
    {
      "cell_type": "code",
      "execution_count": 10,
      "metadata": {
        "colab": {
          "base_uri": "https://localhost:8080/"
        },
        "id": "KOKwnSzN-Sfd",
        "outputId": "33ec9d95-5612-4d85-e20f-3fe13ed4bd30"
      },
      "outputs": [
        {
          "output_type": "stream",
          "name": "stderr",
          "text": [
            "Some weights of DebertaForSequenceClassification were not initialized from the model checkpoint at microsoft/deberta-base and are newly initialized: ['classifier.bias', 'classifier.weight', 'pooler.dense.bias', 'pooler.dense.weight']\n",
            "You should probably TRAIN this model on a down-stream task to be able to use it for predictions and inference.\n"
          ]
        }
      ],
      "source": [
        "# Load model\n",
        "model = DebertaForSequenceClassification.from_pretrained('microsoft/deberta-base', num_labels=2)"
      ],
      "id": "KOKwnSzN-Sfd"
    },
    {
      "cell_type": "code",
      "execution_count": 16,
      "metadata": {
        "colab": {
          "base_uri": "https://localhost:8080/"
        },
        "id": "SLgEretb-Sff",
        "outputId": "1ba9827c-da8b-49b5-dd02-454a6c1f7250"
      },
      "outputs": [
        {
          "output_type": "stream",
          "name": "stderr",
          "text": [
            "Some weights of DebertaForSequenceClassification were not initialized from the model checkpoint at microsoft/deberta-base and are newly initialized: ['classifier.bias', 'classifier.weight', 'pooler.dense.bias', 'pooler.dense.weight']\n",
            "You should probably TRAIN this model on a down-stream task to be able to use it for predictions and inference.\n",
            "Using the `WANDB_DISABLED` environment variable is deprecated and will be removed in v5. Use the --report_to flag to control the integrations used for logging result (for instance --report_to none).\n"
          ]
        }
      ],
      "source": [
        "from transformers import RobertaForSequenceClassification, Trainer, TrainingArguments\n",
        "import os, time\n",
        "\n",
        "os.environ[\"WANDB_DISABLED\"] = \"true\"  # Disable W&B tracking\n",
        "\n",
        "model = DebertaForSequenceClassification.from_pretrained('microsoft/deberta-base', num_labels=2)\n",
        "\n",
        "training_args = TrainingArguments(\n",
        "    output_dir='/content/drive/MyDrive/RoBERTa_Sentiment/results',\n",
        "    num_train_epochs=2,\n",
        "    per_device_train_batch_size=16,\n",
        "    per_device_eval_batch_size=64,\n",
        "    eval_strategy=\"epoch\",\n",
        "    logging_dir='/content/drive/MyDrive/RoBERTa_Sentiment/logs',\n",
        "    logging_steps=10,\n",
        "    save_strategy=\"no\"\n",
        ")\n",
        "\n",
        "trainer = Trainer(\n",
        "    model=model,\n",
        "    args=training_args,\n",
        "    train_dataset=train_dataset,\n",
        "    eval_dataset=val_dataset\n",
        ")"
      ],
      "id": "SLgEretb-Sff"
    },
    {
      "cell_type": "code",
      "source": [
        "start_time = time.time()\n",
        "trainer.train()\n",
        "training_time = time.time() - start_time\n",
        "print(f\"Training time: {training_time:.2f} seconds\")"
      ],
      "metadata": {
        "colab": {
          "base_uri": "https://localhost:8080/",
          "height": 156
        },
        "id": "zjZUF-myPRoj",
        "outputId": "c2233c92-b8d0-4705-d3e1-6ae1ca0baec7"
      },
      "id": "zjZUF-myPRoj",
      "execution_count": 17,
      "outputs": [
        {
          "output_type": "display_data",
          "data": {
            "text/plain": [
              "<IPython.core.display.HTML object>"
            ],
            "text/html": [
              "\n",
              "    <div>\n",
              "      \n",
              "      <progress value='500' max='500' style='width:300px; height:20px; vertical-align: middle;'></progress>\n",
              "      [500/500 04:02, Epoch 2/2]\n",
              "    </div>\n",
              "    <table border=\"1\" class=\"dataframe\">\n",
              "  <thead>\n",
              " <tr style=\"text-align: left;\">\n",
              "      <th>Epoch</th>\n",
              "      <th>Training Loss</th>\n",
              "      <th>Validation Loss</th>\n",
              "    </tr>\n",
              "  </thead>\n",
              "  <tbody>\n",
              "    <tr>\n",
              "      <td>1</td>\n",
              "      <td>0.314200</td>\n",
              "      <td>0.270833</td>\n",
              "    </tr>\n",
              "    <tr>\n",
              "      <td>2</td>\n",
              "      <td>0.097600</td>\n",
              "      <td>0.206156</td>\n",
              "    </tr>\n",
              "  </tbody>\n",
              "</table><p>"
            ]
          },
          "metadata": {}
        },
        {
          "output_type": "stream",
          "name": "stdout",
          "text": [
            "Training time: 243.82 seconds\n"
          ]
        }
      ]
    },
    {
      "cell_type": "code",
      "execution_count": 18,
      "metadata": {
        "colab": {
          "base_uri": "https://localhost:8080/",
          "height": 126
        },
        "id": "SrhKTmOu-Sfg",
        "outputId": "335a9b2d-c5b9-49a7-b665-23f342456dc0"
      },
      "outputs": [
        {
          "output_type": "display_data",
          "data": {
            "text/plain": [
              "<IPython.core.display.HTML object>"
            ],
            "text/html": []
          },
          "metadata": {}
        },
        {
          "output_type": "stream",
          "name": "stdout",
          "text": [
            "Accuracy: 0.935\n",
            "Precision: 0.9578454332552693\n",
            "Recall: 0.9657615112160567\n",
            "F1 Score: 0.9617871840094062\n",
            "Training Time: 243.82 seconds\n",
            "Testing Time: 8.77 seconds\n"
          ]
        }
      ],
      "source": [
        "# Evaluation\n",
        "start_test = time.time()\n",
        "predictions = trainer.predict(val_dataset)\n",
        "test_time = time.time() - start_test\n",
        "\n",
        "y_pred = predictions.predictions.argmax(axis=-1)\n",
        "y_true = val_labels[:len(y_pred)]\n",
        "\n",
        "acc = accuracy_score(y_true, y_pred)\n",
        "prec, rec, f1, _ = precision_recall_fscore_support(y_true, y_pred, average='binary')\n",
        "\n",
        "print(f\"Accuracy: {acc}\")\n",
        "print(f\"Precision: {prec}\")\n",
        "print(f\"Recall: {rec}\")\n",
        "print(f\"F1 Score: {f1}\")\n",
        "print(f\"Training Time: {training_time:.2f} seconds\")\n",
        "print(f\"Testing Time: {test_time:.2f} seconds\")"
      ],
      "id": "SrhKTmOu-Sfg"
    },
    {
      "cell_type": "code",
      "metadata": {
        "id": "689b5afa"
      },
      "source": [
        "# Trainer\n",
        "trainer = Trainer(\n",
        "    model=model,\n",
        "    args=training_args,\n",
        "    train_dataset=train_dataset,\n",
        "    eval_dataset=val_dataset\n",
        ")\n",
        "# Train model\n",
        "start_time = time.time()\n",
        "trainer.train()\n",
        "training_time = time.time() - start_time"
      ],
      "id": "689b5afa",
      "execution_count": null,
      "outputs": []
    }
  ],
  "metadata": {
    "kernelspec": {
      "display_name": "Python 3",
      "name": "python3"
    },
    "language_info": {
      "name": "python",
      "version": "3.10"
    },
    "colab": {
      "provenance": [],
      "gpuType": "T4"
    },
    "accelerator": "GPU"
  },
  "nbformat": 4,
  "nbformat_minor": 5
}
